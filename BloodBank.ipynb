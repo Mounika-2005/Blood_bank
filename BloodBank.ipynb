{
  "nbformat": 4,
  "nbformat_minor": 0,
  "metadata": {
    "colab": {
      "name": "Blood_Bank(2).ipynb",
      "provenance": [],
      "collapsed_sections": []
    },
    "kernelspec": {
      "name": "python3",
      "display_name": "Python 3"
    }
  },
  "cells": [
    {
      "cell_type": "code",
      "metadata": {
        "id": "9UXIMCLCWBO7",
        "colab_type": "code",
        "colab": {}
      },
      "source": [
        "import pandas as pd\n",
        "import os\n",
        "Data =[[\"Apolo\",\"Chris\",\"A+\",\"1234\"],\n",
        "        [\"Kims\",\"Tom\",\"B+\",\"5678\"]]\n",
        "pd.DataFrame(Data,columns=[\"Hospital_Name\",\"Donor_Name\",\"Blood_Group\",\"Phone_Number\"],index = [\"1\",\"2\"])\n",
        "count = 2\n"
      ],
      "execution_count": 0,
      "outputs": []
    },
    {
      "cell_type": "code",
      "metadata": {
        "id": "fHIx9zS8cDJD",
        "colab_type": "code",
        "colab": {
          "base_uri": "https://localhost:8080/",
          "height": 201
        },
        "outputId": "b19227a9-b330-4b51-fdf2-64c895730fdc"
      },
      "source": [
        "#If Admin wants to add details\n",
        "a=input(\"Do u want to ADD Details?\\n Enter Yes or No \")\n",
        "if(a=='Yes'):\n",
        "        add=[input('Enter Hospital_Name:'),input('Enter Donor_Name:'),input('Enter Blood_Group:'),input('Enter Phone_Number:')]\n",
        "        Data.append(add)\n",
        "        df = pd.DataFrame(Data)\n",
        "        count+=1\n",
        "else:\n",
        "    print('EXIT\\n')\n",
        "\n",
        "print(df)"
      ],
      "execution_count": 4,
      "outputs": [
        {
          "output_type": "stream",
          "text": [
            "Do u want to ADD Details?\n",
            " Enter Yes or No Yes\n",
            "Enter Hospital_Name:a\n",
            "Enter Donor_Name:b\n",
            "Enter Blood_Group:c\n",
            "Enter Phone_Number:1\n",
            "       0      1   2     3\n",
            "0  Apolo  Chris  A+  1234\n",
            "1   Kims    Tom  B+  5678\n",
            "2      a      b   c     1\n"
          ],
          "name": "stdout"
        }
      ]
    },
    {
      "cell_type": "code",
      "metadata": {
        "id": "UUQetZbny0Un",
        "colab_type": "code",
        "colab": {
          "base_uri": "https://localhost:8080/",
          "height": 143
        },
        "outputId": "514e185a-b229-4f3f-e578-fb97a5243e55"
      },
      "source": [
        "df"
      ],
      "execution_count": 5,
      "outputs": [
        {
          "output_type": "execute_result",
          "data": {
            "text/html": [
              "<div>\n",
              "<style scoped>\n",
              "    .dataframe tbody tr th:only-of-type {\n",
              "        vertical-align: middle;\n",
              "    }\n",
              "\n",
              "    .dataframe tbody tr th {\n",
              "        vertical-align: top;\n",
              "    }\n",
              "\n",
              "    .dataframe thead th {\n",
              "        text-align: right;\n",
              "    }\n",
              "</style>\n",
              "<table border=\"1\" class=\"dataframe\">\n",
              "  <thead>\n",
              "    <tr style=\"text-align: right;\">\n",
              "      <th></th>\n",
              "      <th>0</th>\n",
              "      <th>1</th>\n",
              "      <th>2</th>\n",
              "      <th>3</th>\n",
              "    </tr>\n",
              "  </thead>\n",
              "  <tbody>\n",
              "    <tr>\n",
              "      <th>0</th>\n",
              "      <td>Apolo</td>\n",
              "      <td>Chris</td>\n",
              "      <td>A+</td>\n",
              "      <td>1234</td>\n",
              "    </tr>\n",
              "    <tr>\n",
              "      <th>1</th>\n",
              "      <td>Kims</td>\n",
              "      <td>Tom</td>\n",
              "      <td>B+</td>\n",
              "      <td>5678</td>\n",
              "    </tr>\n",
              "    <tr>\n",
              "      <th>2</th>\n",
              "      <td>a</td>\n",
              "      <td>b</td>\n",
              "      <td>c</td>\n",
              "      <td>1</td>\n",
              "    </tr>\n",
              "  </tbody>\n",
              "</table>\n",
              "</div>"
            ],
            "text/plain": [
              "       0      1   2     3\n",
              "0  Apolo  Chris  A+  1234\n",
              "1   Kims    Tom  B+  5678\n",
              "2      a      b   c     1"
            ]
          },
          "metadata": {
            "tags": []
          },
          "execution_count": 5
        }
      ]
    },
    {
      "cell_type": "code",
      "metadata": {
        "id": "OvIM9vdZeVGk",
        "colab_type": "code",
        "colab": {
          "base_uri": "https://localhost:8080/",
          "height": 72
        },
        "outputId": "ddfec7fc-ea0b-46e1-a66d-f02eb41d5c91"
      },
      "source": [
        "#Getting Details of Users\n",
        "Blood_Group = input('Enter Blood_Group:')    #For Getting Required Blood Group\n",
        "for i in range(len(Data)):\n",
        "    if(Data[i][2] == Blood_Group):\n",
        "             print(Data[i][0],Data[i][1],Data[i][2],Data[i][3])\n",
        "\n",
        "if(Blood_Group == 'AB-' ):                #Printing the Rarest Blood Group\n",
        "        print(Blood_Group + \" is the Rarest Blood Group\")  \n",
        "else:\n",
        "        print(Blood_Group + \" is not the Rarest Blood Group\")            \n",
        "    "
      ],
      "execution_count": 6,
      "outputs": [
        {
          "output_type": "stream",
          "text": [
            "Enter Blood_Group:A+\n",
            "Apolo Chris A+ 1234\n",
            "A+ is not the Rarest Blood Group\n"
          ],
          "name": "stdout"
        }
      ]
    },
    {
      "cell_type": "code",
      "metadata": {
        "id": "3XaLFb3Qnl72",
        "colab_type": "code",
        "colab": {}
      },
      "source": [
        "Hospital_Name = input('Enter Hospital_Name:')  #For Getting Detail in Particular Hospital\n",
        "for i in range(len(Data)):\n",
        "    if(Data[i][0] == Hospital_Name):\n",
        "            print(Data[i][0],Data[i][1],Data[i][2],Data[i][3])\n"
      ],
      "execution_count": 0,
      "outputs": []
    }
  ]
}