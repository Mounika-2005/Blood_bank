{
  "nbformat": 4,
  "nbformat_minor": 0,
  "metadata": {
    "colab": {
      "name": "Blood_Bank(2).ipynb",
      "provenance": [],
      "collapsed_sections": []
    },
    "kernelspec": {
      "name": "python3",
      "display_name": "Python 3"
    }
  },
  "cells": [
    {
      "cell_type": "code",
      "metadata": {
        "id": "9UXIMCLCWBO7",
        "colab_type": "code",
        "colab": {}
      },
      "source": [
        "import pandas as pd\n",
        "import os\n",
        "Data =[[\"Apolo\",\"Chris\",\"A+\",\"1234\"],\n",
        "        [\"Kims\",\"Tom\",\"B+\",\"5678\"]]\n",
        "pd.DataFrame(Data,columns=[\"Hospital_Name\",\"Donor_Name\",\"Blood_Group\",\"Phone_Number\"],index = [\"1\",\"2\"])\n",
        "count = 2\n"
      ],
      "execution_count": 0,
      "outputs": []
    },
    {
      "cell_type": "code",
      "metadata": {
        "id": "fHIx9zS8cDJD",
        "colab_type": "code",
        "colab": {}
      },
      "source": [
        "#If Admin wants to add details\n",
        "a=input(\"Do u want to ADD Details?\\n Enter Yes or No \")\n",
        "if(a=='Yes'):\n",
        "        add=[input('Enter Hospital_Name:'),input('Enter Donor_Name:'),input('Enter Blood_Group:'),input('Enter Phone_Number:')]\n",
        "        Data.append(add)\n",
        "        df = pd.DataFrame(Data)\n",
        "        count+=1\n",
        "else:\n",
        "    print('EXIT\\n')\n",
        "\n",
        "print(df)"
      ],
      "execution_count": 0,
      "outputs": []
    },
    {
      "cell_type": "code",
      "metadata": {
        "id": "UUQetZbny0Un",
        "colab_type": "code",
        "colab": {}
      },
      "source": [
        "df"
      ],
      "execution_count": 0,
      "outputs": []
    },
    {
      "cell_type": "code",
      "metadata": {
        "id": "OvIM9vdZeVGk",
        "colab_type": "code",
        "colab": {}
      },
      "source": [
        "#Getting Details of Users\n",
        "Blood_Group = input('Enter Blood_Group:')    #For Getting Required Blood Group\n",
        "for i in range(len(Data)):\n",
        "    if(Data[i][2] == Blood_Group):\n",
        "             print(Data[i][0],Data[i][1],Data[i][2],Data[i][3])\n",
        "\n",
        "if(Blood_Group == 'AB-' ):                #Printing the Rarest Blood Group\n",
        "        print(Blood_Group + \" is the Rarest Blood Group\")  \n",
        "else:\n",
        "        print(Blood_Group + \" is not the Rarest Blood Group\")            \n",
        "    "
      ],
      "execution_count": 0,
      "outputs": []
    },
    {
      "cell_type": "code",
      "metadata": {
        "id": "3XaLFb3Qnl72",
        "colab_type": "code",
        "colab": {}
      },
      "source": [
        "Hospital_Name = input('Enter Hospital_Name:')  #For Getting Detail in Particular Hospital\n",
        "for i in range(len(Data)):\n",
        "    if(Data[i][0] == Hospital_Name):\n",
        "            print(Data[i][0],Data[i][1],Data[i][2],Data[i][3])\n"
      ],
      "execution_count": 0,
      "outputs": []
    }
  ]
}